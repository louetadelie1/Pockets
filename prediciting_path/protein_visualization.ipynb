{
 "cells": [
  {
   "cell_type": "code",
   "execution_count": 1,
   "metadata": {},
   "outputs": [
    {
     "data": {
      "application/vnd.jupyter.widget-view+json": {
       "model_id": "9a7a9f9bee29432683f2fdb3ec4d6549",
       "version_major": 2,
       "version_minor": 0
      },
      "text/plain": [
       "Text(value='1BNA', description='PDB Code:', placeholder='Enter PDB code')"
      ]
     },
     "metadata": {},
     "output_type": "display_data"
    },
    {
     "data": {
      "application/vnd.jupyter.widget-view+json": {
       "model_id": "265ee5233c0a4cdaad4f79995aedd482",
       "version_major": 2,
       "version_minor": 0
      },
      "text/plain": [
       "Button(description='Display', icon='eye', style=ButtonStyle(), tooltip='Click to display protein')"
      ]
     },
     "metadata": {},
     "output_type": "display_data"
    },
    {
     "data": {
      "application/vnd.jupyter.widget-view+json": {
       "model_id": "60ea2ae1e5bf497e809f6f5cd08a1ede",
       "version_major": 2,
       "version_minor": 0
      },
      "text/plain": [
       "Output()"
      ]
     },
     "metadata": {},
     "output_type": "display_data"
    }
   ],
   "source": [
    "import py3Dmol\n",
    "import ipywidgets as widgets\n",
    "from IPython.display import display\n",
    "\n",
    "def visualize_protein(pdb_code):\n",
    "    view = py3Dmol.view(query='pdb:' + pdb_code)\n",
    "    view.setStyle({'cartoon': {'color': 'spectrum'}})\n",
    "    view.show()\n",
    "\n",
    "pdb_input = widgets.Text(\n",
    "    value='1BNA',\n",
    "    placeholder='Enter PDB code',\n",
    "    description='PDB Code:',\n",
    "    disabled=False\n",
    ")\n",
    "\n",
    "display_button = widgets.Button(\n",
    "    description='Display',\n",
    "    disabled=False,\n",
    "    button_style='',\n",
    "    tooltip='Click to display protein',\n",
    "    icon='eye'\n",
    ")\n",
    "\n",
    "output = widgets.Output()\n",
    "\n",
    "def on_display_button_clicked(b):\n",
    "    with output:\n",
    "        output.clear_output()\n",
    "        visualize_protein(pdb_input.value)\n",
    "\n",
    "display_button.on_click(on_display_button_clicked)\n",
    "\n",
    "display(pdb_input, display_button, output)"
   ]
  }
 ],
 "metadata": {
  "kernelspec": {
   "display_name": "my-rdkit-env",
   "language": "python",
   "name": "python3"
  },
  "language_info": {
   "codemirror_mode": {
    "name": "ipython",
    "version": 3
   },
   "file_extension": ".py",
   "mimetype": "text/x-python",
   "name": "python",
   "nbconvert_exporter": "python",
   "pygments_lexer": "ipython3",
   "version": "3.11.4"
  }
 },
 "nbformat": 4,
 "nbformat_minor": 2
}
