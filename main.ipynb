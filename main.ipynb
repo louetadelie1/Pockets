{
 "cells": [
  {
   "cell_type": "code",
   "execution_count": null,
   "metadata": {},
   "outputs": [],
   "source": [
    "import glob\n",
    "import MDAnalysis as mda\n",
    "from matplotlib import pyplot as plt\n",
    "import pandas as pd\n",
    "import re\n",
    "from collections import Counter\n",
    "from scipy.spatial import distance_matrix\n",
    "import numpy as np\n",
    "import os\n",
    "import warnings\n",
    "warnings.filterwarnings('ignore')\n",
    "from scipy.cluster.hierarchy import dendrogram, linkage, fcluster\n"
   ]
  },
  {
   "cell_type": "raw",
   "metadata": {},
   "source": [
    "Need two direcotries: for each ts, need one apo pdb and one holo pdb (each in their respective direcotries)\n",
    "\n",
    "In the holo directory:/sharedscratch/al2108/abeta_ligand/raw_traj/trajectories/fpocket/r1/holo\n",
    "printed pdb file for each ts and selected 0) system as output to get the holo (protein+ligand)\n",
    "trjconv -f ../center_multi.xtc -s ../topol.gro -sep -o pair.pdb\n",
    "\n",
    "(use -skip x option if needed)\n",
    "\n",
    "In the apo directory:/sharedscratch/al2108/abeta_ligand/raw_traj/trajectories/fpocket/r1/apo\n",
    "printed pdb file for each ts and selected 1) protein as output to get the apo (protein ONLY)\n",
    "trjconv -f ../center_multi.xtc -s ../topol.gro -sep -o pair.pdb"
   ]
  },
  {
   "cell_type": "raw",
   "metadata": {},
   "source": [
    "Notes:\n",
    "For handling alpha-syn combined_frames.xtc from Shengyu, needed to do it on MP with Gromacs version 2018 because won't work with G2020. "
   ]
  },
  {
   "cell_type": "markdown",
   "metadata": {},
   "source": [
    "<font color='red'>****Number one location of error - dependency on fpocket*</font>\n"
   ]
  },
  {
   "cell_type": "raw",
   "metadata": {},
   "source": [
    "In apo folder, need to use fpocket to generate X number of predicted binding pockets. Will then compare the output from fpocket to holo strucutre and if pockets match, we assume it to be a binding pocket.\n",
    "Simply execute the following in the apo folder:\n",
    "\n",
    "for x in *.pdb; do (fpocket -f ${x});done\n",
    "\n",
    "Assumes that fpocket is donwloaded and in path/alias (on hpc : alias fpocket='/home/al2108/opt/fpocket/bin/fpocket')"
   ]
  },
  {
   "cell_type": "markdown",
   "metadata": {},
   "source": [
    "## Analyze fpocket output"
   ]
  },
  {
   "cell_type": "raw",
   "metadata": {},
   "source": [
    "The following gives us the pdb files that have a binding pocket \n",
    "Assumes that a binding pocket occurs when the fpocket output == true ligand position"
   ]
  },
  {
   "cell_type": "code",
   "execution_count": null,
   "metadata": {},
   "outputs": [],
   "source": [
    "# Conda activate mdanalysis\n",
    "# Provide Paths\n",
    "\n",
    "apo_path=('/home/al2108/rds/hpc-work/dd_proj/alpha_syn/input_pdbs/apo/')\n",
    "holo_path=('/home/al2108/rds/hpc-work/dd_proj/alpha_syn/input_pdbs/holo/')"
   ]
  },
  {
   "cell_type": "code",
   "execution_count": null,
   "metadata": {},
   "outputs": [],
   "source": [
    "from finding_pockets import *\n",
    "from pocket_match import *\n"
   ]
  },
  {
   "cell_type": "code",
   "execution_count": null,
   "metadata": {},
   "outputs": [],
   "source": [
    "list_num =[re.split(r'pair|.pdb',entry)[-2] if len(re.split(r'pair|.pdb', entry)) >= 3 else None for entry in os.listdir(holo_path)]\n",
    "#count=(len([entry for entry in os.listdir(holo_path) if os.path.isfile(os.path.join(holo_path, entry))]))\n",
    "\n",
    "path=[]\n",
    "#for name_apo,name_holo in zip(sorted(glob.glob(apo_path+'traj*/')),(sorted(glob.glob(holo_path+'traj*/')))): # only for abeta traj folder\n",
    "for name_apo,name_holo in zip(sorted(glob.glob(apo_path)),(sorted(glob.glob(holo_path)))):\n",
    "    try:\n",
    "        x=name_apo\n",
    "        y=name_holo\n",
    "        for pdb_number in (list_num[:50]):\n",
    "            apo_pockets=x+'pair'+str(pdb_number)+'_out/pair'+str(pdb_number)+'_out.pdb'\n",
    "            holo_pdb= y+ 'pair'+ str(pdb_number)+ '.pdb'\n",
    "            get_apo_centroids = Centroid_fpocket(apo_pockets,'resname STP')\n",
    "            apo_centroids = get_apo_centroids.calculate_centroid()\n",
    "            apo_holo=Compare_centroids(apo_centroids,holo_pdb,pdb_number)\n",
    "            distance_holo_apo=apo_holo.calculate_distance()\n",
    "            path.append(distance_holo_apo)\n",
    "    except:\n",
    "        pass\n",
    "\n",
    "path=list(filter(lambda x: len(x[0]) > 0, path))\n",
    "\n",
    "        ## Need to make sure that apo_pockets is pointing to the pair_out.pdb output from fpocket output & holo is pointing to the SAME structure but in holo form"
   ]
  },
  {
   "cell_type": "code",
   "execution_count": null,
   "metadata": {},
   "outputs": [],
   "source": [
    "pocket_df=pd.DataFrame({\"pdb_file\":([item[1] for item in path])})\n",
    "pocket_df['STP_pockets'] = pd.Series(([(item[0]) for item in path]))"
   ]
  },
  {
   "cell_type": "markdown",
   "metadata": {},
   "source": [
    "## Extract coordinates of pocket matches\n",
    "##### From original true holo strucutre (pdb file)\n",
    "###### _(this is very redundant)_"
   ]
  },
  {
   "cell_type": "code",
   "execution_count": null,
   "metadata": {},
   "outputs": [],
   "source": [
    "pocket_paths_resid = []\n",
    "\n",
    "for i, row in pocket_df.iterrows():\n",
    "    pocket_path = holo_path + \"pair\" + str(row['pdb_file']) + \".pdb\"\n",
    "    pocket_paths_resid.append((Retrive_pocket_residues(pocket_path).return_path_resids()))#[0][1]) #### Remove [0][1] if you want the path included\n",
    "    "
   ]
  },
  {
   "cell_type": "markdown",
   "metadata": {},
   "source": [
    "## Using PocketMatch Software to generate similarity Matrix\n",
    "### Generating PDB files that will be input for PocketMatch Software\n"
   ]
  },
  {
   "cell_type": "code",
   "execution_count": null,
   "metadata": {},
   "outputs": [],
   "source": [
    "#### Provide a path to place new pdb files\n",
    "sample_path=('/home/al2108/rds/hpc-work/dd_proj/abeta_ligand/sample_files/')\n",
    "\n",
    "flat_pocket_paths_resid = [num for sublist in pocket_paths_resid for num in sublist]\n",
    "fixed_flat_pocket_paths_resid = [(x[0].replace(\"holo\", \"apo\"), x[1]) for x in flat_pocket_paths_resid]\n",
    "\n",
    "\n",
    "for f in fixed_flat_pocket_paths_resid[:4]:\n",
    "    pdb_writer=Writing_pocket_pdb(f,sample_path)\n",
    "    pdb_writer.generate_pdb()"
   ]
  },
  {
   "cell_type": "raw",
   "metadata": {},
   "source": [
    "Put the pockets folder in this folder \"/home/al2108/rds/hpc-work/abeta_ligand/PocketMatch/PocketMatch_v2.1/cabbage-file_maker\".\n",
    "Execute the following:\n",
    "cd PocketMatch_v1.2/cabbage-file_maker\n",
    "bash Step0-cabbage.sh Sample_pockets/\n",
    "mv outfile.cabbage ../\n",
    "cd ../\n",
    "./Step3-PM_typeA outfile.cabbage\n",
    "\n",
    "The output will be PocketMatch_score.txt that you will do hierarchial clustering on."
   ]
  },
  {
   "cell_type": "code",
   "execution_count": null,
   "metadata": {},
   "outputs": [],
   "source": [
    "directory_pm=(os.getcwd())+'/PocketMatch'"
   ]
  },
  {
   "cell_type": "code",
   "execution_count": null,
   "metadata": {},
   "outputs": [],
   "source": [
    "%%bash -s \"$directory_pm\" \"$sample_path\"\n",
    "\n",
    "cd $1\n",
    "bash Step0-cabbage.sh $2\n",
    "./Step3-PM_typeA outfile.cabbage\n",
    "\n"
   ]
  },
  {
   "cell_type": "markdown",
   "metadata": {},
   "source": [
    "### Analyzing Output from Pocket Match"
   ]
  },
  {
   "cell_type": "code",
   "execution_count": null,
   "metadata": {},
   "outputs": [],
   "source": [
    "## Ouput of PocketMatch Score\n",
    "score=directory_pm+'/PocketMatch_score.txt'\n",
    "linkage_matrix,unique_ids=Evaluating_PM(score).similarity_mat()"
   ]
  },
  {
   "cell_type": "code",
   "execution_count": null,
   "metadata": {},
   "outputs": [],
   "source": [
    "plt.figure(figsize=(10, 5))\n",
    "dendrogram(linkage_matrix, labels=unique_ids, orientation='right')\n",
    "plt.xlabel('Distance')\n",
    "plt.ylabel('PDB Files')\n",
    "plt.title('Dendrogram of Hierarchical Clustering')\n",
    "plt.show()"
   ]
  },
  {
   "cell_type": "code",
   "execution_count": null,
   "metadata": {},
   "outputs": [],
   "source": [
    "cluster_dict=Evaluating_PM(score).create_dict(linkage_matrix,unique_ids)"
   ]
  },
  {
   "cell_type": "code",
   "execution_count": null,
   "metadata": {},
   "outputs": [],
   "source": [
    "Evaluating_PM(score).cluster_stats(flat_pocket_paths_resid,cluster_dict)"
   ]
  }
 ],
 "metadata": {
  "kernelspec": {
   "display_name": "mdanalysis",
   "language": "python",
   "name": "python3"
  },
  "language_info": {
   "codemirror_mode": {
    "name": "ipython",
    "version": 3
   },
   "file_extension": ".py",
   "mimetype": "text/x-python",
   "name": "python",
   "nbconvert_exporter": "python",
   "pygments_lexer": "ipython3",
   "version": "3.11.5"
  }
 },
 "nbformat": 4,
 "nbformat_minor": 2
}
